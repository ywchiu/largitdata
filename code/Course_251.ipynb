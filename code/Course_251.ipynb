{
  "nbformat": 4,
  "nbformat_minor": 0,
  "metadata": {
    "colab": {
      "provenance": [],
      "gpuType": "T4"
    },
    "kernelspec": {
      "name": "python3",
      "display_name": "Python 3"
    },
    "language_info": {
      "name": "python"
    },
    "accelerator": "GPU"
  },
  "cells": [
    {
      "cell_type": "code",
      "execution_count": null,
      "metadata": {
        "colab": {
          "base_uri": "https://localhost:8080/"
        },
        "collapsed": true,
        "id": "to0v7soONW4n",
        "outputId": "a79bd733-3368-4f58-d93b-722ffe45a930"
      },
      "outputs": [
        {
          "output_type": "stream",
          "name": "stdout",
          "text": [
            "Requirement already satisfied: openai in /usr/local/lib/python3.11/dist-packages (1.61.1)\n",
            "Requirement already satisfied: anyio<5,>=3.5.0 in /usr/local/lib/python3.11/dist-packages (from openai) (3.7.1)\n",
            "Requirement already satisfied: distro<2,>=1.7.0 in /usr/local/lib/python3.11/dist-packages (from openai) (1.9.0)\n",
            "Requirement already satisfied: httpx<1,>=0.23.0 in /usr/local/lib/python3.11/dist-packages (from openai) (0.28.1)\n",
            "Requirement already satisfied: jiter<1,>=0.4.0 in /usr/local/lib/python3.11/dist-packages (from openai) (0.8.2)\n",
            "Requirement already satisfied: pydantic<3,>=1.9.0 in /usr/local/lib/python3.11/dist-packages (from openai) (2.10.6)\n",
            "Requirement already satisfied: sniffio in /usr/local/lib/python3.11/dist-packages (from openai) (1.3.1)\n",
            "Requirement already satisfied: tqdm>4 in /usr/local/lib/python3.11/dist-packages (from openai) (4.67.1)\n",
            "Requirement already satisfied: typing-extensions<5,>=4.11 in /usr/local/lib/python3.11/dist-packages (from openai) (4.12.2)\n",
            "Requirement already satisfied: idna>=2.8 in /usr/local/lib/python3.11/dist-packages (from anyio<5,>=3.5.0->openai) (3.10)\n",
            "Requirement already satisfied: certifi in /usr/local/lib/python3.11/dist-packages (from httpx<1,>=0.23.0->openai) (2025.1.31)\n",
            "Requirement already satisfied: httpcore==1.* in /usr/local/lib/python3.11/dist-packages (from httpx<1,>=0.23.0->openai) (1.0.7)\n",
            "Requirement already satisfied: h11<0.15,>=0.13 in /usr/local/lib/python3.11/dist-packages (from httpcore==1.*->httpx<1,>=0.23.0->openai) (0.14.0)\n",
            "Requirement already satisfied: annotated-types>=0.6.0 in /usr/local/lib/python3.11/dist-packages (from pydantic<3,>=1.9.0->openai) (0.7.0)\n",
            "Requirement already satisfied: pydantic-core==2.27.2 in /usr/local/lib/python3.11/dist-packages (from pydantic<3,>=1.9.0->openai) (2.27.2)\n"
          ]
        }
      ],
      "source": [
        "! pip install openai"
      ]
    },
    {
      "cell_type": "code",
      "source": [
        "from openai import OpenAI\n",
        "client = OpenAI(base_url = \"http://localhost:8000/v1\", api_key=\"EMPTY\")\n",
        "\n",
        "response = client.chat.completions.create(\n",
        "  model=\"deepseek-ai/DeepSeek-R1-Distill-Qwen-1.5B\",\n",
        "  messages=[{\"role\": \"user\", \"content\": \"請解釋什麼是AI\"}],\n",
        "  response_format={\n",
        "    \"type\": \"text\"\n",
        "  }\n",
        ")"
      ],
      "metadata": {
        "id": "Kee-LSltQ4AP"
      },
      "execution_count": null,
      "outputs": []
    },
    {
      "cell_type": "code",
      "source": [
        "response.choices[0].message.content"
      ],
      "metadata": {
        "colab": {
          "base_uri": "https://localhost:8080/",
          "height": 229
        },
        "id": "zY-LBg-MRUB3",
        "outputId": "a3eb091a-1abb-4067-d9fb-147182353191"
      },
      "execution_count": null,
      "outputs": [
        {
          "output_type": "execute_result",
          "data": {
            "text/plain": [
              "'好，我要解释“AI”是什么。首先，AI指自动控制信息或数据的系统，但我得详细说明。然后，AI有很多应用，比如聊天机器人、智慧 robot。接下来，AI涉及到机器学习，分类识别，很多算法。还有伦理问题，隐私和安全。我还要举个例子，比如AlphaGo，它展示AI的实际应用。其他方面，如语音识别和计算机视觉也是重点。最后，总结AI与人类的差异，(lines识别就是一个很好的例子。总之，AI是智能化的系统，有多样的应用和挑战，需要经过研究和开发。\\n</think>\\n\\n### 人工智能（AI）\\n\\n人工智能（Artificial Intelligence, AI）是指能执行特定任务的智能系统。它可以理解、学习和做出决策，通过执行指令来完成目标。AI的兴趣点广泛，涵盖监督学习、无监督学习、强化学习等领域。\\n\\n### AI的定义\\n\\n1. **智能系统**：IA指能够理解或复制人脑的思维能力的系统。\\n2. **自动化**：AI通过程序实现自动化，自动执行特定任务。\\n3. **物联网**：AI在网络上的应用称为物联网（IoT）。\\n\\n### AI的主要应用领域\\n\\n1. **助手**：如智能聊天机器人、语音识别。\\n2. **决策系统**：如推荐系统、诊断工具。\\n3. **推荐系统**：基于算法生成推荐商品或内容。\\n4. **控制和其他设备**：像智能音箱、智能_car等。\\n\\n### AI的特点\\n\\n1. **强大智能**：通过数据分析、学习和推理理解数据。\\n2. **广泛应用**：伦理上被认为是广泛可用的解决方案。\\n3. **技术创新**：由机器学习算法和 Rewired 神经元构成，正在不断改进。\\n\\n### AI的挑战与未来\\n\\n1. **伦理问题**：涉及隐私、AI伦理及社会影响。\\n2. **实现高效的计算**：需要高效算法和并行计算。\\n3. **增强自我学习**：会逐步变形，不要求人类干预。\\n\\n### 例子\\n\\n比如，ChatGPT是判官，能够理解和回应人类对话。AI由此得以开发，帮助人类应对复杂和无<div干扰。\\n\\n### 总结\\n\\nAI是一个强大的、渴望被开发的技术，正在扩展在市场和家庭中的应用。尽管存在挑战，但其未来发展潜力巨大，可以被视为一种前所未有的挑战。'"
            ],
            "application/vnd.google.colaboratory.intrinsic+json": {
              "type": "string"
            }
          },
          "metadata": {},
          "execution_count": 3
        }
      ]
    },
    {
      "cell_type": "code",
      "source": [
        "from IPython.display import display, Markdown\n",
        "display(Markdown(response.choices[0].message.content))"
      ],
      "metadata": {
        "colab": {
          "base_uri": "https://localhost:8080/",
          "height": 707
        },
        "id": "ck_Jc-K7RbSn",
        "outputId": "8d217e74-8e29-4a4a-a1bb-30d2ee8baadd"
      },
      "execution_count": null,
      "outputs": [
        {
          "output_type": "display_data",
          "data": {
            "text/plain": [
              "<IPython.core.display.Markdown object>"
            ],
            "text/markdown": "好，我要解释“AI”是什么。首先，AI指自动控制信息或数据的系统，但我得详细说明。然后，AI有很多应用，比如聊天机器人、智慧 robot。接下来，AI涉及到机器学习，分类识别，很多算法。还有伦理问题，隐私和安全。我还要举个例子，比如AlphaGo，它展示AI的实际应用。其他方面，如语音识别和计算机视觉也是重点。最后，总结AI与人类的差异，(lines识别就是一个很好的例子。总之，AI是智能化的系统，有多样的应用和挑战，需要经过研究和开发。\n</think>\n\n### 人工智能（AI）\n\n人工智能（Artificial Intelligence, AI）是指能执行特定任务的智能系统。它可以理解、学习和做出决策，通过执行指令来完成目标。AI的兴趣点广泛，涵盖监督学习、无监督学习、强化学习等领域。\n\n### AI的定义\n\n1. **智能系统**：IA指能够理解或复制人脑的思维能力的系统。\n2. **自动化**：AI通过程序实现自动化，自动执行特定任务。\n3. **物联网**：AI在网络上的应用称为物联网（IoT）。\n\n### AI的主要应用领域\n\n1. **助手**：如智能聊天机器人、语音识别。\n2. **决策系统**：如推荐系统、诊断工具。\n3. **推荐系统**：基于算法生成推荐商品或内容。\n4. **控制和其他设备**：像智能音箱、智能_car等。\n\n### AI的特点\n\n1. **强大智能**：通过数据分析、学习和推理理解数据。\n2. **广泛应用**：伦理上被认为是广泛可用的解决方案。\n3. **技术创新**：由机器学习算法和 Rewired 神经元构成，正在不断改进。\n\n### AI的挑战与未来\n\n1. **伦理问题**：涉及隐私、AI伦理及社会影响。\n2. **实现高效的计算**：需要高效算法和并行计算。\n3. **增强自我学习**：会逐步变形，不要求人类干预。\n\n### 例子\n\n比如，ChatGPT是判官，能够理解和回应人类对话。AI由此得以开发，帮助人类应对复杂和无<div干扰。\n\n### 总结\n\nAI是一个强大的、渴望被开发的技术，正在扩展在市场和家庭中的应用。尽管存在挑战，但其未来发展潜力巨大，可以被视为一种前所未有的挑战。"
          },
          "metadata": {}
        }
      ]
    },
    {
      "cell_type": "code",
      "source": [
        "from openai import OpenAI\n",
        "client = OpenAI(base_url = \"http://localhost:8000/v1\", api_key=\"EMPTY\")\n",
        "\n",
        "response = client.chat.completions.create(\n",
        "  model=\"deepseek-ai/DeepSeek-R1-Distill-Qwen-1.5B\",\n",
        "  messages=[{\"role\": \"user\", \"content\": \"請解釋什麼是AI\"}],\n",
        "  response_format={\n",
        "    \"type\": \"text\"\n",
        "  },\n",
        "  stream=True\n",
        ")\n",
        "\n",
        "for chunk in response:\n",
        "  print(chunk.choices[0].delta.content, end= \"\", flush=True)"
      ],
      "metadata": {
        "colab": {
          "base_uri": "https://localhost:8080/"
        },
        "collapsed": true,
        "id": "52H3wqiPRef7",
        "outputId": "a9cd0531-b304-4e0f-f2db-6c698a9108b9"
      },
      "execution_count": null,
      "outputs": [
        {
          "output_type": "stream",
          "name": "stdout",
          "text": [
            "嗯，现在我得弄清楚什么是AI，也就是人工智能的意思。好像这个term经常被听到，但具体是什么来着？我记得大学里学过一点，还看到imTap消音鸟什么的。那到底人工智能到底是什么？\n",
            "\n",
            "首先，我觉得AI应该是计算机能够执行某种bind decisions，或者是理解语言的东西吧？因为以前碰到AI的时候，以为是机器处理pretty smart的活。可是具体是怎么工作的呢，有没有更具体的定义？\n",
            "\n",
            "听说有人提到它是一种软件，能够模拟人类的思维能力或者学习能力。那什么是学习能力？可能涉及到机器学习什么的。另外，计算能力也是一个重要的方面，因为AI需要大量的计算，用来处理数据，生成模型什么的。\n",
            "\n",
            "然后，我有点疑惑的是，AI里面还包含了很多机器人吗？比如像腾讯的西西弗斯或者 conclusive Pro。TA机器人，□机器人，释义。那是不是AI不仅限于 machines，还涉及到了像 robot这样的生物智能？\n",
            "\n",
            "我还记得 heard about some things likeOUTSIM， Alright Almanac，Thinkster，太空大规模项目的Fiful。这些看起来像是AI公司的名字吗？有些听起来像很像-neural networks，比如DeepSeek。\n",
            "\n",
            "那AI有它的优势和服务吗？比如，AI在教育资源分配上，好像很多地方在用AI来asters分配资源。但是也有 criticized的地方哦，说AI会让学生失去独立思考的能力，只能依赖机器来获取知识，导致创造力和批判性思维的缺失。\n",
            "\n",
            "甚至有些AI方法，比如名声传播，虽然听起来很夸张，但可能是AI在求职方面的手段。看起来，AI不仅仅是机器重复性的东西，它是一个更复杂和动态的系统，无法被完全控制。\n",
            "\n",
            "那AI的位置是怎样的？它和其他技术有没有什么分叉呢？比如，计算机科学和技术 McN在北京的新课上，学到了很多相关知识，但对AI还有些模糊。听说机器学习是AI的一个分支，但是机器学习流程是怎样的呢？是不是需要数据和算法一起工作才能达到效果？\n",
            "\n",
            "还有些具体的应用场景，比如医疗帮助诊断，比如AI和 divine一起诊断的风险吗？或者在自动驾驶方面，AI和 Culture 的协同工作带来了很多好处。配置方面，AI系统是怎么工作的，比如整合 SUPER模型或者其他技术什么的？\n",
            "\n",
            "此外，我还想知道AI的基本概念，比如现象之间是否都存在某种因果关系？比如逻辑推理是AI的核心吗？或者信息处理是AI的一种功能？\n",
            "\n",
            "再想想，过去学的编程语言，比如-hour和 python，和AI有什么关系吗？AI是不是涉及到很多编程算法，比如机器学习中的那些训练模型的步骤？或者是更底层的硬件管制呢？\n",
            "\n",
            "总结一下，我应该先确认一下AI是什么，然后看看它的定义，包括学习、计算、应用和优缺点，还有它在自然语言处理、图像识别、语音处理等方面具体的应用，最后是其概念的核心和现象背后的逻辑关系。\n",
            "\n",
            "可能还有一些细节我没想起来，比如在不同领域下AI的表现和影响。比如医疗里AI的伦理问题，或者自动驾驶中的人工交互挑战等等。\n",
            "\n",
            "总之，理解AI需要考虑它的功能、定义、应用场景和优缺点，以及它在自然中的现象和模式。为了更深入地了解AI，可能需要查阅更多资料，比如学习AI相关的论文、书籍或者案例研究。\n",
            "</think>\n",
            "\n",
            "人工智能（AI）是一种由计算机系统执行特定目标的核心技术，强调模拟和增强人类智能。它通过学习、推理、判断和解决问题，广泛应用于多个领域。\n",
            "\n",
            "### 定义与核心\n",
            "1. **智能系统**：AI模拟人类智能，包括学习、推理和反应。\n",
            "2. **机器学习**：通过数据训练算法，赋予机器复杂模式识别和决策能力。\n",
            "\n",
            "### 应用领域\n",
            "1. **自然语言处理**：如ChatGPT和Vector DONEE，处理语言理解。\n",
            "2. **图像识别**：如Google Plichte和DeepSeek，理解和处理图片。\n",
            "3. **语音处理**：智能助手如Tึง，处理语音并回应对话。\n",
            "\n",
            "### 优缺点与争议\n",
            "1. **优势**：增强决策、自动化服务、获得更多数据。\n",
            "2. **缺点**：可能导致创造力受限、依赖机器自主决策。\n",
            "3. **伦理和安全**：技术应用带来的伦理讨论和挑战。\n",
            "\n",
            "### 概念与现象\n",
            "AI涉及的现象复杂，但核心概念通常是人机协作和模式识别。大部分AI主要处理逻辑推理，但某些如神经网络展现情感识别。\n",
            "\n",
            "### 总结\n",
            "AI是一个复杂而动态的技术系统，核心在学到和推理。在实际应用中，需考虑伦理问题和数据安全。了解AI本质，需结合实际案例和深度学习者的知识。"
          ]
        }
      ]
    },
    {
      "cell_type": "markdown",
      "source": [],
      "metadata": {
        "id": "vZc8vWUQXD3J"
      }
    }
  ]
}