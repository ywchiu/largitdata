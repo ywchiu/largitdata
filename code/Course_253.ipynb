{
 "cells": [
  {
   "cell_type": "code",
   "execution_count": 1,
   "id": "6232bbe4-8cdf-4b14-93e8-17ccd13991c6",
   "metadata": {},
   "outputs": [],
   "source": [
    "from selenium import webdriver\n",
    "driver = webdriver.Chrome()"
   ]
  },
  {
   "cell_type": "code",
   "execution_count": 2,
   "id": "e663ca40-83f3-4245-a32e-af25fd07d16a",
   "metadata": {},
   "outputs": [],
   "source": [
    "driver.get('https://bsr.twse.com.tw/bshtm/')"
   ]
  },
  {
   "cell_type": "code",
   "execution_count": 4,
   "id": "a4ede186-c4c4-4889-83d6-c1941c7324df",
   "metadata": {},
   "outputs": [
    {
     "data": {
      "text/plain": [
       "'<html xmlns=\"http://www.w3.org/1999/xhtml\"><head>\\n    <title>TAIWAN STOCK EXCHANGE.買賣日報表查詢系統</title>\\n\\n    <style type=\"text/css\">\\n        body {\\n            margin: 0;\\n            padding: 0;\\n            border: 0;\\n            overflow: hidden;\\n            height: 100%;\\n            max-height: 100%;\\n        }\\n    </style>\\n</head>\\n<frameset cols=\"300,*\" border=\"0\">\\n   <frame id=\"page1\" name=\"page1\" src=\"bsMenu.aspx\">\\n   <frame id=\"page2\" name=\"page2\" src=\"bsWelcome.aspx\">\\n</frameset>\\n\\n</html>'"
      ]
     },
     "execution_count": 4,
     "metadata": {},
     "output_type": "execute_result"
    }
   ],
   "source": [
    "driver.page_source"
   ]
  },
  {
   "cell_type": "code",
   "execution_count": 5,
   "id": "13da4617-fed3-427d-b82f-7cb91f9ffbde",
   "metadata": {},
   "outputs": [],
   "source": [
    "driver.switch_to.frame(\"page1\")"
   ]
  },
  {
   "cell_type": "code",
   "execution_count": 7,
   "id": "341b092a-ab7c-4c02-999a-ab592a8984ef",
   "metadata": {},
   "outputs": [],
   "source": [
    "from selenium.webdriver.common.by import By\n",
    "stock_input = driver.find_element(By.CSS_SELECTOR, '#TextBox_Stkno')"
   ]
  },
  {
   "cell_type": "code",
   "execution_count": 8,
   "id": "bcc59bd5-9330-4bf6-8fe3-0ad7a7d231f0",
   "metadata": {},
   "outputs": [],
   "source": [
    "stock_input.send_keys(\"2330\")"
   ]
  },
  {
   "cell_type": "code",
   "execution_count": 24,
   "id": "7f46207e-89bb-4cff-8848-c9e8c321b001",
   "metadata": {},
   "outputs": [],
   "source": [
    "captcha_input = driver.find_element(By.CSS_SELECTOR, '#Panel_bshtm img')"
   ]
  },
  {
   "cell_type": "code",
   "execution_count": 25,
   "id": "2166035a-ff79-49ec-8f95-b97ab27c0b7e",
   "metadata": {},
   "outputs": [
    {
     "data": {
      "text/plain": [
       "True"
      ]
     },
     "execution_count": 25,
     "metadata": {},
     "output_type": "execute_result"
    }
   ],
   "source": [
    "captcha_input.screenshot(\"captcha.png\")"
   ]
  },
  {
   "cell_type": "code",
   "execution_count": 26,
   "id": "f710eec5-c275-4fe9-a861-efa036ce6f1f",
   "metadata": {},
   "outputs": [
    {
     "data": {
      "image/png": "[encoded data removed]",
      "text/plain": [
       "<IPython.core.display.Image object>"
      ]
     },
     "metadata": {},
     "output_type": "display_data"
    }
   ],
   "source": [
    "from IPython.display import Image, display\n",
    "display(Image(\"captcha.png\"))"
   ]
  },
  {
   "cell_type": "code",
   "execution_count": 27,
   "id": "f5979956-0015-4655-a26b-8bd39d6d8450",
   "metadata": {},
   "outputs": [],
   "source": [
    "import base64\n",
    "\n",
    "def encode_image(image_path):\n",
    "    with open(image_path, \"rb\") as image_file:\n",
    "        return base64.b64encode(image_file.read()).decode(\"utf-8\")\n",
    "\n",
    "base64_image = encode_image(\"captcha.png\")\n"
   ]
  },
  {
   "cell_type": "code",
   "execution_count": 12,
   "id": "aca811f0-d196-4bf8-8dba-7c4db920b00e",
   "metadata": {},
   "outputs": [],
   "source": [
    "from openai import OpenAI\n",
    "client = OpenAI(api_key = 'sk-proj-')\n"
   ]
  },
  {
   "cell_type": "code",
   "execution_count": 15,
   "id": "2db8dd13-f982-47c7-9336-c1d0b732c38e",
   "metadata": {},
   "outputs": [],
   "source": [
    "SYSTEM_INSTRUCTION = '''識別圖片中的CAPTCHA內容後，以JSON格式輸出。\n",
    "\n",
    "# Steps\n",
    "\n",
    "1. 分析圖片，識別其中的CAPTCHA內容。\n",
    "2. 確保識別內容的準確性。\n",
    "3. 將識別出的CAPTCHA內容轉換為JSON格式。\n",
    "\n",
    "# Output Format\n",
    "\n",
    "輸出應為以下JSON格式：\n",
    "```json\n",
    "{\n",
    "  \"captchaText\": \"[識別出的CAPTCHA內容]\"\n",
    "}\n",
    "```\n",
    "\n",
    "# Notes\n",
    "\n",
    "- 若識別過程中發現不清楚的字母或數字，請考慮可能的選擇，並選擇最有可能的。\n",
    "- 確保輸出內容只包含CAPTCHA的文字，不包括其他識別或處理信息。'''"
   ]
  },
  {
   "cell_type": "code",
   "execution_count": 28,
   "id": "f0ddba26-d3f6-44bf-9940-76384989ac7a",
   "metadata": {},
   "outputs": [],
   "source": [
    "response = client.chat.completions.create(\n",
    "            model=\"gpt-4o\",\n",
    "            messages=[\n",
    "                {  \"role\": \"system\",\n",
    "                    \"content\": [\n",
    "                        {\"type\": \"text\",\"text\": SYSTEM_INSTRUCTION}\n",
    "                    ] \n",
    "                },\n",
    "                {   \"role\": \"user\",\n",
    "                    \"content\": [\n",
    "                        {\"type\": \"image_url\",\"image_url\": {\"url\": f\"data:image/jpeg;base64,{base64_image}\"}}\n",
    "                    ]\n",
    "                }\n",
    "            ],\n",
    "            response_format={\"type\": \"json_object\"}\n",
    ")"
   ]
  },
  {
   "cell_type": "code",
   "execution_count": 29,
   "id": "b8237e60-105c-4918-980b-df7c67ecdf8e",
   "metadata": {},
   "outputs": [],
   "source": [
    "import json\n",
    "jd = json.loads(response.choices[0].message.content)"
   ]
  },
  {
   "cell_type": "code",
   "execution_count": 30,
   "id": "582ead38-cd72-4d16-8d40-3670023bb0a2",
   "metadata": {},
   "outputs": [
    {
     "data": {
      "text/plain": [
       "'URQ79'"
      ]
     },
     "execution_count": 30,
     "metadata": {},
     "output_type": "execute_result"
    }
   ],
   "source": [
    "jd.get('captchaText')"
   ]
  },
  {
   "cell_type": "code",
   "execution_count": 31,
   "id": "e2e62928-7e84-4db8-9853-dc6280b246b1",
   "metadata": {},
   "outputs": [],
   "source": [
    "captcha_input = driver.find_element(By.CSS_SELECTOR, \"input[name=CaptchaControl1]\")\n",
    "captcha_input.send_keys(jd.get('captchaText'))"
   ]
  },
  {
   "cell_type": "code",
   "execution_count": 32,
   "id": "db3ad43e-f72f-4ecc-a1a3-fa0d63388763",
   "metadata": {},
   "outputs": [],
   "source": [
    "q_input = driver.find_element(By.CSS_SELECTOR, \"input[name=btnOK]\")\n",
    "q_input.click()\n",
    "\n"
   ]
  },
  {
   "cell_type": "code",
   "execution_count": 33,
   "id": "52a97f6e-f5b1-4fb9-b72f-109a34c8b929",
   "metadata": {},
   "outputs": [],
   "source": [
    "q_input = driver.find_element(By.ID, \"HyperLink_DownloadCSV\")\n",
    "q_input.click()\n",
    "\n"
   ]
  },
  {
   "cell_type": "code",
   "execution_count": null,
   "id": "b0f45456-ad55-4385-b520-172c41fed255",
   "metadata": {},
   "outputs": [],
   "source": []
  }
 ],
 "metadata": {
  "kernelspec": {
   "display_name": "Python 3 (ipykernel)",
   "language": "python",
   "name": "python3"
  },
  "language_info": {
   "codemirror_mode": {
    "name": "ipython",
    "version": 3
   },
   "file_extension": ".py",
   "mimetype": "text/x-python",
   "name": "python",
   "nbconvert_exporter": "python",
   "pygments_lexer": "ipython3",
   "version": "3.11.3"
  }
 },
 "nbformat": 4,
 "nbformat_minor": 5
}
